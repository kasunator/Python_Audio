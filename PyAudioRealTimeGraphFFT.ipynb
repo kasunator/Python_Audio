{
 "cells": [
  {
   "cell_type": "markdown",
   "metadata": {},
   "source": [
    "In my windows Anaconda installation the %matplotlib tk didn't work, the qt4 worked\n",
    "This is bit funny I am not sure about this part yet. I', leaving this for future investigarion "
   ]
  },
  {
   "cell_type": "code",
   "execution_count": 1,
   "metadata": {},
   "outputs": [],
   "source": [
    "\n",
    "%matplotlib qt5\n",
    "#%matplotlib tk \n",
    "#tk did not work for me in windows anaconda\n",
    "\n",
    "import pyaudio\n",
    "import struct\n",
    "import numpy as np \n",
    "import matplotlib.pyplot as plt\n",
    "\n",
    "import os\n",
    "import time\n",
    "from scipy.fftpack import fft\n",
    "\n",
    "CHUNK = 1024*2\n",
    "FORMAT = pyaudio.paInt16\n",
    "CHANNELS =1 \n",
    "RATE =44100\n"
   ]
  },
  {
   "cell_type": "code",
   "execution_count": 6,
   "metadata": {},
   "outputs": [
    {
     "data": {
      "text/plain": [
       "(20, 22050.0)"
      ]
     },
     "execution_count": 6,
     "metadata": {},
     "output_type": "execute_result"
    }
   ],
   "source": [
    "fig,(ax1, ax2) = plt.subplots(2, figsize=(15,7))\n",
    "\n",
    "p= pyaudio.PyAudio()\n",
    "stream = p.open(\n",
    "    format= FORMAT,\n",
    "    channels=CHANNELS,\n",
    "    rate=RATE,\n",
    "    input=True,\n",
    "    output=True,\n",
    "    frames_per_buffer=CHUNK\n",
    ")\n",
    "#data = stream.read(CHUNK)\n",
    "#data_int =np.array(struct.unpack(str(2*CHUNK)+'B',data),dtype='b')[::2]+127\n",
    "\n",
    "#variable for plotting \n",
    "x =np.arange(0,2*CHUNK,2)   #samples (waveform)\n",
    "xf = np.linspace(0, RATE, CHUNK) #frequencies (spectrum)\n",
    "\n",
    "# create a line object with random data\n",
    "line, = ax1.plot(x, np.random.rand(CHUNK), '-',lw=2) # put a random number for now\n",
    "\n",
    "# create semixlogx line for spectrum\n",
    "line_fft, = ax2.semilogx(xf, np.random.rand(CHUNK), '-', lw=2)\n",
    "\n",
    "# format waveform axes\n",
    "ax1.set_title('AUDIO WAVEFORM')\n",
    "ax1.set_xlabel('samples')\n",
    "ax1.set_ylabel('volume')\n",
    "\n",
    "ax1.set_ylim(-32768 ,32768 ) #t\n",
    "ax1.set_xlim(0,CHUNK)\n",
    "\n",
    "#format spectrum axes\n",
    "ax2.set_xlim(20, RATE/2)\n",
    "\n"
   ]
  },
  {
   "cell_type": "markdown",
   "metadata": {},
   "source": [
    "we want to update the line data in real time "
   ]
  },
  {
   "cell_type": "code",
   "execution_count": null,
   "metadata": {},
   "outputs": [],
   "source": [
    "#for measuring frame rate\n",
    "frame_count = 0\n",
    "start_time = time.time()\n",
    "\n",
    "while True:\n",
    "    data = stream.read(CHUNK)\n",
    "    #data_int = np.array(struct.unpack(str(2*CHUNK)+'B', data), dtype='b')[::2] + 127\n",
    "    #data_int = np.fromstring(data,dtype=np.int16)\n",
    "    data_int = np.frombuffer(stream.read(CHUNK),np.int16,-1)\n",
    "    line.set_ydata(data_int)\n",
    "    \n",
    "    #compute FFT and update line\n",
    "    yf = fft(data_int)\n",
    "    line_fft.set_ydata(np.abs(yf[0:CHUNK]) / (128*CHUNK))\n",
    "    \n",
    "    fig.canvas.draw()\n",
    "    fig.canvas.flush_events()\n",
    "    frame_count += 1"
   ]
  },
  {
   "cell_type": "code",
   "execution_count": null,
   "metadata": {},
   "outputs": [],
   "source": []
  }
 ],
 "metadata": {
  "kernelspec": {
   "display_name": "Python 3",
   "language": "python",
   "name": "python3"
  },
  "language_info": {
   "codemirror_mode": {
    "name": "ipython",
    "version": 3
   },
   "file_extension": ".py",
   "mimetype": "text/x-python",
   "name": "python",
   "nbconvert_exporter": "python",
   "pygments_lexer": "ipython3",
   "version": "3.7.6"
  }
 },
 "nbformat": 4,
 "nbformat_minor": 4
}
