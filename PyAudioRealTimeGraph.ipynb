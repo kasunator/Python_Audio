{
 "cells": [
  {
   "cell_type": "markdown",
   "metadata": {},
   "source": [
    "In my windows Anaconda installation the %matplotlib tk didn't work, the qt4 worked\n",
    "This is bit funny I am not sure about this part yet. I', leaving this for future investigarion "
   ]
  },
  {
   "cell_type": "code",
   "execution_count": 1,
   "metadata": {},
   "outputs": [],
   "source": [
    "\n",
    "%matplotlib qt5\n",
    "#%matplotlib tk \n",
    "#tk did not work for me in windows anaconda\n",
    "\n",
    "import pyaudio\n",
    "import struct\n",
    "import numpy as np \n",
    "import matplotlib.pyplot as plt\n",
    "\n",
    "\n",
    "\n",
    "CHUNK = 1024*4\n",
    "FORMAT = pyaudio.paInt16\n",
    "CHANNELS =1 \n",
    "RATE =44100\n"
   ]
  },
  {
   "cell_type": "code",
   "execution_count": null,
   "metadata": {},
   "outputs": [],
   "source": []
  },
  {
   "cell_type": "code",
   "execution_count": 2,
   "metadata": {},
   "outputs": [
    {
     "data": {
      "text/plain": [
       "(0, 4096)"
      ]
     },
     "execution_count": 2,
     "metadata": {},
     "output_type": "execute_result"
    }
   ],
   "source": [
    "p= pyaudio.PyAudio()\n",
    "stream = p.open(\n",
    "    format= FORMAT,\n",
    "    channels=CHANNELS,\n",
    "    rate=RATE,\n",
    "    input=True,\n",
    "    output=True,\n",
    "    frames_per_buffer=CHUNK\n",
    ")\n",
    "#data = stream.read(CHUNK)\n",
    "#data_int =np.array(struct.unpack(str(2*CHUNK)+'B',data),dtype='b')[::2]+127\n",
    "\n",
    "fig,ax = plt.subplots()\n",
    "x =np.arange(0,2*CHUNK,2)\n",
    "line, = ax.plot(x, np.random.rand(CHUNK)) # put a random number for now\n",
    "ax.set_ylim(-32768 ,32768 ) #t\n",
    "ax.set_xlim(0,CHUNK)\n"
   ]
  },
  {
   "cell_type": "markdown",
   "metadata": {},
   "source": [
    "we want to update the line data in real time "
   ]
  },
  {
   "cell_type": "code",
   "execution_count": null,
   "metadata": {},
   "outputs": [
    {
     "name": "stderr",
     "output_type": "stream",
     "text": [
      "C:\\Users\\kasun.beddewela\\Anaconda3\\lib\\site-packages\\ipykernel_launcher.py:4: DeprecationWarning: The binary mode of fromstring is deprecated, as it behaves surprisingly on unicode inputs. Use frombuffer instead\n",
      "  after removing the cwd from sys.path.\n"
     ]
    }
   ],
   "source": [
    "while True:\n",
    "    data = stream.read(CHUNK)\n",
    "    #data_int = np.array(struct.unpack(str(2*CHUNK)+'B', data), dtype='b')[::2] + 127\n",
    "    #data_int = np.fromstring(data,dtype=np.int16)\n",
    "    data_int = np.frombuffer(stream.read(CHUNK),np.int16,-1)\n",
    "    line.set_ydata(data_int)\n",
    "    fig.canvas.draw()\n",
    "    fig.canvas.flush_events()\n",
    "    "
   ]
  },
  {
   "cell_type": "code",
   "execution_count": null,
   "metadata": {},
   "outputs": [],
   "source": []
  }
 ],
 "metadata": {
  "kernelspec": {
   "display_name": "Python 3",
   "language": "python",
   "name": "python3"
  },
  "language_info": {
   "codemirror_mode": {
    "name": "ipython",
    "version": 3
   },
   "file_extension": ".py",
   "mimetype": "text/x-python",
   "name": "python",
   "nbconvert_exporter": "python",
   "pygments_lexer": "ipython3",
   "version": "3.7.6"
  }
 },
 "nbformat": 4,
 "nbformat_minor": 4
}
